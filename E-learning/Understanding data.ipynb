{
  "nbformat": 4,
  "nbformat_minor": 0,
  "metadata": {
    "colab": {
      "name": "Untitled0.ipynb",
      "provenance": []
    },
    "kernelspec": {
      "name": "python3",
      "display_name": "Python 3"
    },
    "language_info": {
      "name": "python"
    }
  },
  "cells": [
    {
      "cell_type": "code",
      "execution_count": null,
      "metadata": {
        "colab": {
          "base_uri": "https://localhost:8080/"
        },
        "id": "oLAkgOfTxmqs",
        "outputId": "c284cd77-93b7-4ad9-834a-c1fe8a5017cb"
      },
      "outputs": [
        {
          "output_type": "stream",
          "name": "stdout",
          "text": [
            "Mounted at /content/drive\n"
          ]
        }
      ],
      "source": [
        "#mounting google drive\n",
        "from google.colab import drive\n",
        "drive.mount('/content/drive')"
      ]
    },
    {
      "cell_type": "code",
      "source": [
        "#import needed libraries\n",
        "import pandas as pd \n",
        "import numpy as np \n",
        "import matplotlib.pyplot as plt \n",
        "import seaborn as sns \n",
        "import plotly.express as px \n",
        "from glob import glob \n",
        "import os \n",
        "import re\n",
        "import warnings\n",
        "warnings.simplefilter(action='ignore',category=FutureWarning)"
      ],
      "metadata": {
        "id": "NYZgcHGjx1j7"
      },
      "execution_count": null,
      "outputs": []
    },
    {
      "cell_type": "code",
      "source": [
        " #first ten district engagement w/ product\n",
        "f1142=pd.read_csv('/content/drive/Shareddrives/E-Learning/Data/engagement_data/1142.csv')\n",
        "\n",
        "f1 = f1142.lp_id.unique()\n",
        "nf1 = len(f1)\n",
        "print(nf1)\n",
        "\n",
        "f1444=pd.read_csv('/content/drive/Shareddrives/E-Learning/Data/engagement_data/1444.csv')\n",
        "\n",
        "f2 = f1444.lp_id.unique()\n",
        "nf2 = len(f2)\n",
        "print(nf2)\n",
        "\n",
        "f1904=pd.read_csv('/content/drive/Shareddrives/E-Learning/Data/engagement_data/1904.csv')\n",
        "\n",
        "f3 = f1904.lp_id.unique()\n",
        "nf3 = len(f3)\n",
        "print(nf3)\n",
        "\n",
        "f2257=pd.read_csv('/content/drive/Shareddrives/E-Learning/Data/engagement_data/2257.csv')\n",
        "\n",
        "f4 = f2257.lp_id.unique()\n",
        "nf4 = len(f4)\n",
        "print(nf4)\n",
        "\n",
        "f2321=pd.read_csv('/content/drive/Shareddrives/E-Learning/Data/engagement_data/2321.csv')\n",
        "\n",
        "f5 = f2321.lp_id.unique()\n",
        "nf5 = len(f5)\n",
        "print(nf5)\n",
        "\n",
        "f3248=pd.read_csv('/content/drive/Shareddrives/E-Learning/Data/engagement_data/3248.csv')\n",
        "\n",
        "f6 = f3248.lp_id.unique()\n",
        "nf6 = len(f6)\n",
        "print(nf6)\n",
        "\n",
        "f3936=pd.read_csv('/content/drive/Shareddrives/E-Learning/Data/engagement_data/3936.csv')\n",
        "\n",
        "f7 = f3936.lp_id.unique()\n",
        "nf7 = len(f7)\n",
        "print(nf7)\n",
        "\n",
        "f4744=pd.read_csv('/content/drive/Shareddrives/E-Learning/Data/engagement_data/4744.csv')\n",
        "\n",
        "f8 = f4744.lp_id.unique()\n",
        "nf8 = len(f8)\n",
        "print(nf8)\n",
        "\n",
        "f5600=pd.read_csv('/content/drive/Shareddrives/E-Learning/Data/engagement_data/5600.csv')\n",
        "\n",
        "f9 = f5600.lp_id.unique()\n",
        "nf9 = len(f9)\n",
        "print(nf9)\n",
        "\n",
        "f6055=pd.read_csv('/content/drive/Shareddrives/E-Learning/Data/engagement_data/6055.csv')\n",
        "\n",
        "f10 = f6055.lp_id.unique()\n",
        "nf10 = len(f10)\n",
        "print(nf10)\n",
        "\n",
        "f6762=pd.read_csv('/content/drive/Shareddrives/E-Learning/Data/engagement_data/6762.csv')\n",
        "\n",
        "f11 = f6762.lp_id.unique()\n",
        "nf11 = len(f11)\n",
        "print(nf11)\n",
        "\n",
        "f7798=pd.read_csv('/content/drive/Shareddrives/E-Learning/Data/engagement_data/7798.csv')\n",
        "\n",
        "f12 = f7798.lp_id.unique()\n",
        "nf12 = len(f12)\n",
        "print(nf12)\n",
        "\n",
        "f8433=pd.read_csv('/content/drive/Shareddrives/E-Learning/Data/engagement_data/8433.csv')\n",
        "\n",
        "f13 = f8433.lp_id.unique()\n",
        "nf13 = len(f13)\n",
        "print(nf13)\n",
        "\n",
        "f9007=pd.read_csv('/content/drive/Shareddrives/E-Learning/Data/engagement_data/9007.csv')\n",
        "\n",
        "f14 = f9007.lp_id.unique()\n",
        "nf14 = len(f14)\n",
        "print(nf14)\n",
        "\n",
        "f9478=pd.read_csv('/content/drive/Shareddrives/E-Learning/Data/engagement_data/9478.csv')\n",
        "\n",
        "f15 = f9478.lp_id.unique()\n",
        "nf15 = len(f15)\n",
        "print(nf15)\n",
        "\n",
        "data1 = {'district': ['1142', '1444', '1904', '2257', '2321', '3248', '3936', '4744', '5600','6055', '6762', '7798', '8433', '9007', '9478'],\n",
        "        'Unique': [1294,1500,2200,1884,1948,2058,1877,1544,696,1561,1551,2158,1560,1356,1686]}\n",
        "\n",
        "unique1 = pd.DataFrame(data1)\n",
        "print(unique1)"
      ],
      "metadata": {
        "colab": {
          "base_uri": "https://localhost:8080/"
        },
        "id": "w_nDntmbx6je",
        "outputId": "a6c70406-8d6c-4d34-caed-7a5f4a36d6cc"
      },
      "execution_count": null,
      "outputs": [
        {
          "output_type": "stream",
          "name": "stdout",
          "text": [
            "1294\n",
            "1500\n",
            "2200\n",
            "1884\n",
            "1948\n",
            "2058\n",
            "1877\n",
            "1544\n",
            "696\n",
            "1561\n",
            "1551\n",
            "2158\n",
            "1560\n",
            "1356\n",
            "1686\n",
            "   district  Unique\n",
            "0      1142    1294\n",
            "1      1444    1500\n",
            "2      1904    2200\n",
            "3      2257    1884\n",
            "4      2321    1948\n",
            "5      3248    2058\n",
            "6      3936    1877\n",
            "7      4744    1544\n",
            "8      5600     696\n",
            "9      6055    1561\n",
            "10     6762    1551\n",
            "11     7798    2158\n",
            "12     8433    1560\n",
            "13     9007    1356\n",
            "14     9478    1686\n"
          ]
        }
      ]
    },
    {
      "cell_type": "code",
      "source": [
        "#last ten district engagement w/ product\n",
        "\n",
        "b1791=pd.read_csv('/content/drive/Shareddrives/E-Learning/Data/engagement_data/1791.csv')\n",
        "\n",
        "b1 = b1791.lp_id.unique()\n",
        "nb1 = len(b1)\n",
        "print(nb1)\n",
        "\n",
        "b2567=pd.read_csv('/content/drive/Shareddrives/E-Learning/Data/engagement_data/2567.csv')\n",
        "\n",
        "b2 = b2567.lp_id.unique()\n",
        "nb2 = len(b2)\n",
        "print(nb2)\n",
        "\n",
        "b2870=pd.read_csv('/content/drive/Shareddrives/E-Learning/Data/engagement_data/2870.csv')\n",
        "\n",
        "b3 = b2870.lp_id.unique()\n",
        "nb3 = len(b3)\n",
        "print(nb3)\n",
        "\n",
        "b3160=pd.read_csv('/content/drive/Shareddrives/E-Learning/Data/engagement_data/3160.csv')\n",
        "\n",
        "b4 = b3160.lp_id.unique()\n",
        "nb4 = len(b4)\n",
        "print(nb4)\n",
        "\n",
        "b3732=pd.read_csv('/content/drive/Shareddrives/E-Learning/Data/engagement_data/3732.csv')\n",
        "\n",
        "b5 = b3732.lp_id.unique()\n",
        "nb5 = len(b5)\n",
        "print(nb5)\n",
        "\n",
        "b4668=pd.read_csv('/content/drive/Shareddrives/E-Learning/Data/engagement_data/4668.csv')\n",
        "\n",
        "b6 = b4668.lp_id.unique()\n",
        "nb6 = len(b6)\n",
        "print(nb6)\n",
        "\n",
        "b4775=pd.read_csv('/content/drive/Shareddrives/E-Learning/Data/engagement_data/4775.csv')\n",
        "\n",
        "b7 = b4775.lp_id.unique()\n",
        "nb7 = len(b7)\n",
        "print(nb7)\n",
        "\n",
        "b6144=pd.read_csv('/content/drive/Shareddrives/E-Learning/Data/engagement_data/6144.csv')\n",
        "\n",
        "b8 = b6144.lp_id.unique()\n",
        "nb8 = len(b8)\n",
        "print(nb8)\n",
        "\n",
        "b6584=pd.read_csv('/content/drive/Shareddrives/E-Learning/Data/engagement_data/6584.csv')\n",
        "\n",
        "b9 = b6584.lp_id.unique()\n",
        "nb9 = len(b9)\n",
        "print(nb9)\n",
        "\n",
        "b6640=pd.read_csv('/content/drive/Shareddrives/E-Learning/Data/engagement_data/6640.csv')\n",
        "\n",
        "b10 = b6640.lp_id.unique()\n",
        "nb10 = len(b10)\n",
        "print(nb10)\n",
        "\n",
        "b7164=pd.read_csv('/content/drive/Shareddrives/E-Learning/Data/engagement_data/7164.csv')\n",
        "\n",
        "b11 = b7164.lp_id.unique()\n",
        "nb11 = len(b11)\n",
        "print(nb11)\n",
        "\n",
        "b7177=pd.read_csv('/content/drive/Shareddrives/E-Learning/Data/engagement_data/7177.csv')\n",
        "\n",
        "b12 = b7177.lp_id.unique()\n",
        "nb12 = len(b12)\n",
        "print(nb12)\n",
        "\n",
        "b7767=pd.read_csv('/content/drive/Shareddrives/E-Learning/Data/engagement_data/7767.csv')\n",
        "\n",
        "b13 = b7767.lp_id.unique()\n",
        "nb13 = len(b13)\n",
        "print(nb13)\n",
        "\n",
        "b7975=pd.read_csv('/content/drive/Shareddrives/E-Learning/Data/engagement_data/7975.csv')\n",
        "\n",
        "b14 = b7975.lp_id.unique()\n",
        "nb14 = len(b14)\n",
        "print(nb14)\n",
        "\n",
        "b9357=pd.read_csv('/content/drive/Shareddrives/E-Learning/Data/engagement_data/9357.csv')\n",
        "\n",
        "b15 = b9357.lp_id.unique()\n",
        "nb15 = len(b15)\n",
        "print(nb15)\n",
        "\n",
        "data2 = {'district': ['1917', '2567', '2870', '3160', '3732', '4668', '4775', '6144', '6584','6640', '7164', '7177', '7767', '7975', '9357'],\n",
        "        'Unique': [4603, 2875, 1898, 3854, 3169, 5684, 1453, 2732, 3509, 4345, 4531, 4914, 2644, 2716, 2789]}\n",
        "unique2 = pd.DataFrame(data2)\n",
        "print(unique2)"
      ],
      "metadata": {
        "colab": {
          "base_uri": "https://localhost:8080/"
        },
        "id": "jZUF1zOn0nZ1",
        "outputId": "0e8b34df-82d0-4255-8227-474c45e4c611"
      },
      "execution_count": null,
      "outputs": [
        {
          "output_type": "stream",
          "name": "stdout",
          "text": [
            "4603\n",
            "2875\n",
            "1898\n",
            "3854\n",
            "3169\n",
            "5684\n",
            "1453\n",
            "2732\n",
            "3509\n",
            "4345\n",
            "4531\n",
            "4914\n",
            "2644\n",
            "2716\n",
            "2789\n",
            "   district  Unique\n",
            "0      1917    4603\n",
            "1      2567    2875\n",
            "2      2870    1898\n",
            "3      3160    3854\n",
            "4      3732    3169\n",
            "5      4668    5684\n",
            "6      4775    1453\n",
            "7      6144    2732\n",
            "8      6584    3509\n",
            "9      6640    4345\n",
            "10     7164    4531\n",
            "11     7177    4914\n",
            "12     7767    2644\n",
            "13     7975    2716\n",
            "14     9357    2789\n"
          ]
        }
      ]
    },
    {
      "cell_type": "code",
      "source": [
        "top_products = sns.barplot(data = unique1, x = \"district\", y = \"Unique\")\n",
        "top_products.set(ylim=(0,5000))\n",
        "\n",
        "#a_plot = sns. lmplot(‘X’,’Y’, data)\n",
        "#a_plot. set(xlim=(0, 45))\n",
        "#a_plot. set(ylim=(0, 2000))"
      ],
      "metadata": {
        "colab": {
          "base_uri": "https://localhost:8080/",
          "height": 301
        },
        "id": "FZ1mkZZE9Cg0",
        "outputId": "9efb50ca-d625-4f89-d7d8-9b65f196bb5e"
      },
      "execution_count": null,
      "outputs": [
        {
          "output_type": "execute_result",
          "data": {
            "text/plain": [
              "[(0.0, 5000.0)]"
            ]
          },
          "metadata": {},
          "execution_count": 7
        },
        {
          "output_type": "display_data",
          "data": {
            "image/png": "[encoded data removed]",
            "text/plain": [
              "<Figure size 432x288 with 1 Axes>"
            ]
          },
          "metadata": {
            "needs_background": "light"
          }
        }
      ]
    },
    {
      "cell_type": "markdown",
      "source": [
        "9357 = California\n",
        "9007 =  Arizona\n",
        "7975 = California\n",
        "4031 = Connecticut\n",
        "4668 = Utah\n",
        "4921 = Utah\n",
        "3710 = Utah\n",
        "3248 = Illinois\n",
        "1772 = Utah\n",
        "6345 = Massachusetts\n",
        "\n",
        "\n"
      ],
      "metadata": {
        "id": "QbVYk8nYyC_v"
      }
    },
    {
      "cell_type": "code",
      "source": [
        "sns.barplot(data = unique2, x = \"district\", y = \"Unique\")"
      ],
      "metadata": {
        "colab": {
          "base_uri": "https://localhost:8080/",
          "height": 297
        },
        "id": "YHWm614tABbu",
        "outputId": "ec81e195-4ebf-4808-b3e3-bb36065186c9"
      },
      "execution_count": null,
      "outputs": [
        {
          "output_type": "execute_result",
          "data": {
            "text/plain": [
              "<matplotlib.axes._subplots.AxesSubplot at 0x7fb66a6b2250>"
            ]
          },
          "metadata": {},
          "execution_count": 14
        },
        {
          "output_type": "display_data",
          "data": {
            "image/png": "[encoded data removed]",
            "text/plain": [
              "<Figure size 432x288 with 1 Axes>"
            ]
          },
          "metadata": {
            "needs_background": "light"
          }
        }
      ]
    },
    {
      "cell_type": "markdown",
      "source": [
        "2060 = Ohio\n",
        "2517 = Massachusetts\n",
        "2567 = Washington\n",
        "3550 = Minnesota\n",
        "3864 = Utah\n",
        "5042 = Illinois\n",
        "6104 = Ohio\n",
        "8902 = Wisconsin\n",
        "9515 = New York\n",
        "9536 = New York"
      ],
      "metadata": {
        "id": "vlgOw7s3xuk_"
      }
    },
    {
      "cell_type": "code",
      "source": [
        "district = pd.read_csv('/content/drive/Shareddrives/E-Learning/Data/districts_info.csv')\n",
        "\n",
        "st = district.state.unique()\n",
        "print(st)"
      ],
      "metadata": {
        "colab": {
          "base_uri": "https://localhost:8080/"
        },
        "id": "v4H0TkXxwUkR",
        "outputId": "0ae21ba2-86c1-4495-fb26-f86ba86507a7"
      },
      "execution_count": null,
      "outputs": [
        {
          "output_type": "stream",
          "name": "stdout",
          "text": [
            "['Illinois' nan 'Utah' 'Wisconsin' 'North Carolina' 'Missouri'\n",
            " 'Washington' 'Connecticut' 'Massachusetts' 'New York' 'Indiana'\n",
            " 'Virginia' 'Ohio' 'New Jersey' 'California' 'District Of Columbia'\n",
            " 'Minnesota' 'Arizona' 'Texas' 'Tennessee' 'Florida' 'North Dakota'\n",
            " 'New Hampshire' 'Michigan']\n"
          ]
        }
      ]
    },
    {
      "cell_type": "code",
      "source": [
        "#number of different states\n",
        "district.state.nunique()"
      ],
      "metadata": {
        "colab": {
          "base_uri": "https://localhost:8080/"
        },
        "id": "mdpBtBVS2CJ2",
        "outputId": "ddd31728-c2d9-4ec0-efcb-27fa98e1c6fc"
      },
      "execution_count": null,
      "outputs": [
        {
          "output_type": "execute_result",
          "data": {
            "text/plain": [
              "23"
            ]
          },
          "metadata": {},
          "execution_count": 7
        }
      ]
    },
    {
      "cell_type": "code",
      "source": [
        "sns.barplot(data = district, x = \"district_id\", y = \"state\")"
      ],
      "metadata": {
        "colab": {
          "base_uri": "https://localhost:8080/",
          "height": 298
        },
        "id": "VzNoXjeX2bFD",
        "outputId": "55dcff88-14d5-4c56-8343-fb82c1a8756c"
      },
      "execution_count": null,
      "outputs": [
        {
          "output_type": "execute_result",
          "data": {
            "text/plain": [
              "<matplotlib.axes._subplots.AxesSubplot at 0x7f9350b30690>"
            ]
          },
          "metadata": {},
          "execution_count": 8
        },
        {
          "output_type": "display_data",
          "data": {
            "image/png": "[encoded data removed]",
            "text/plain": [
              "<Figure size 432x288 with 1 Axes>"
            ]
          },
          "metadata": {
            "needs_background": "light"
          }
        }
      ]
    }
  ]
}